{
 "cells": [
  {
   "cell_type": "markdown",
   "metadata": {},
   "source": [
    "# Método de Taylor de integración de EDOs"
   ]
  },
  {
   "cell_type": "markdown",
   "metadata": {},
   "source": [
    "En el notebook [anterior](https://github.com/dpsanders/metodos_numericos_garantizados/blob/master/notebooks/8.%20Series%20de%20Taylor.ipynb) hicimos varios ejercicios relacionados con desarrollos de Taylor de funciones suaves (de una variable), y cómo construir éstas para las funciones elementales. En este notebook, extenderemos esas ideas para construir la solución de un problema de valor inicial (ecuación diferencial ordinaria con condición inicial)."
   ]
  },
  {
   "cell_type": "markdown",
   "metadata": {},
   "source": [
    "En particular, en el último ejercicio, demostraron que, dado el problema de valor inicial\n",
    "\n",
    "\\begin{equation}\n",
    "\\dot{x} = f(t,x), \\quad x(0)=x_0,\n",
    "\\end{equation}\n",
    "\n",
    "entonces, *la solución* $x(t)$ de esta ecuación, para tiempos suficientemente cercanos a $t_0=0$, la podemos escribir como:\n",
    "\n",
    "\\begin{equation}\n",
    "x(t) = \\sum_{k=0} x_{[k]}(t_0) \\; (t-t_0)^k,\n",
    "\\end{equation}\n",
    "\n",
    "donde los coeficientes del desarrollo satisfacen la relación de recurrencia:\n",
    "\n",
    "$$ x_{[n+1]}(t_0) = \\frac{f_{[n]}(t_0)}{n+1}, $$\n",
    "\n",
    "y $f_{[n]}(t_0)$ son los coeficientes del desarrollo en serie de Taylor de $f(t,x)$ alrededor de $t_0=0$."
   ]
  },
  {
   "cell_type": "markdown",
   "metadata": {},
   "source": [
    " "
   ]
  },
  {
   "cell_type": "markdown",
   "metadata": {},
   "source": [
    "**[1]** Enuncia el teorema de existencia y unicidad de la solución del problema de valor inicial."
   ]
  },
  {
   "cell_type": "code",
   "execution_count": null,
   "metadata": {},
   "outputs": [],
   "source": []
  },
  {
   "cell_type": "markdown",
   "metadata": {},
   "source": [
    "**[2]** Considera la ecuación diferencial y la condición inicial siguientes:\n",
    "\n",
    "$$ \\dot{x} = x^2, \\quad x(0)=1. $$\n",
    "\n",
    "(a) ¿Cuál es la solución analítica (\"exacta\") de esta ecuación?\n",
    "\n",
    "(b) ¿Existe la solución $x(t)$ para todo $t\\in\\mathbb{R}$?\n",
    "\n",
    "(c) Partiendo de la condición inicial, construye explícitamente la solución en serie de Taylor de la ecuación anterior, digamos hasta orden 3. Esto lo haremos sustituyendo la aproximación que tenemos de la solución (que inicialmente es $x(t)\\rightarrow x_0$) en la ecuación diferencial, y obteniendo sucesivamente los coeficientes de orden superior de la serie.\n",
    "\n",
    "(d) Implementa el punto anterior en la computadora, usando la estructura que definiste para las series de Taylor en el notebook anterior.\n",
    "\n"
   ]
  },
  {
   "cell_type": "code",
   "execution_count": null,
   "metadata": {},
   "outputs": [],
   "source": []
  },
  {
   "cell_type": "markdown",
   "metadata": {},
   "source": [
    "**[3]** (Paso de integración.) \n",
    "\n",
    "Consideremos que hemos obtenido una aproximación en serie de la solución de un problema de valor inicial hasta orden $P$. Suponiendo que $P$ es suficientemente grande para que podeamos suponer que estamos en la *cola convergente* de la serie, entonces *impondremos* que el último término de la serie obtenida sea, en valor absoluto menor, que $\\epsilon_\\textrm{abs}$. \n",
    "\n",
    "(a) Muestra que estas suposiciones permiten obtener un paso de integración.\n",
    "\n",
    "(b) ¿Qué pasa con el paso de integración (aumenta o disminuye) si aumentamos el orden de la serie?\n",
    "\n",
    "(c) ¿Es el paso de integración fijo (constante) o varía? Argumenta.\n",
    "\n",
    "(d) Implementa una función que determine el paso de integración y úsala para la ecuación diferencial del ejercicio **2**."
   ]
  },
  {
   "cell_type": "code",
   "execution_count": null,
   "metadata": {},
   "outputs": [],
   "source": []
  },
  {
   "cell_type": "markdown",
   "metadata": {},
   "source": [
    "**[4]** \n",
    "\n",
    "(a) Implementa una función que integra lo que hemos hecho hasta ahora. Esto es, que genere el desarrollo local de la serie de Taylor (ver ejercicio **2**(d)), que use esta serie para obtener el paso de integración $h$, y que usando ambos, genere la *nueva* condición inicial al tiempo $t_0+h$. Para el último punto, usa el método de Horner (pregúntale a google) para sumar la serie.\n",
    "\n",
    "(b) Usa tu función con el problema e integra varios pasos de integración. ¿Puedes integrar más allá de $t=1$?"
   ]
  },
  {
   "cell_type": "code",
   "execution_count": null,
   "metadata": {},
   "outputs": [],
   "source": []
  },
  {
   "cell_type": "markdown",
   "metadata": {},
   "source": [
    "**[5]** \n",
    "\n",
    "(a) Muestra que la solución del problema de valor inicial se puede escribir como\n",
    "\n",
    "$$ x(t) = x_0 + \\int_{t_0}^t f(s, x) \\,\\textrm{d}s. $$\n",
    "\n",
    "Esta relación, vista como un operador $(t_0, x_0)\\rightarrow (t,x(t))$, se le conoce como\n",
    "el operador de Picard-Lindelöf.\n",
    "\n",
    "(b) Muestra que *iteraciones sucesivas* del operador de Picard-Lindelöf, obtenidas al ir truncando la serie de Taylor de $f(t,x)$ de manera consistente, generan la misma regla de recurrencia para la solución en términos de la serie de Taylor. Lo más sencillo es partir de la serie a orden $k$ de la solución de la ecuación diferencial, y obtener el siguiente término.\n",
    "\n",
    "(c) Implementa una función que integre una serie (en una variable independiente); trata a la constante de integración (que sería la condición inicial en este caso) como un parámetro de la función.\n",
    "\n",
    "(d) Construye la solución del ejercicio **2** usando *iteraciones* de Picard."
   ]
  },
  {
   "cell_type": "code",
   "execution_count": null,
   "metadata": {},
   "outputs": [],
   "source": []
  }
 ],
 "metadata": {
  "kernel_info": {
   "name": "julia-0.6"
  },
  "kernelspec": {
   "display_name": "Julia 0.6.3-pre",
   "language": "julia",
   "name": "julia-0.6"
  },
  "language_info": {
   "file_extension": ".jl",
   "mimetype": "application/julia",
   "name": "julia",
   "version": "0.6.3"
  },
  "nteract": {
   "version": "0.8.4"
  },
  "toc": {
   "nav_menu": {},
   "number_sections": false,
   "sideBar": true,
   "skip_h1_title": false,
   "toc_cell": false,
   "toc_position": {},
   "toc_section_display": "block",
   "toc_window_display": false
  }
 },
 "nbformat": 4,
 "nbformat_minor": 2
}
