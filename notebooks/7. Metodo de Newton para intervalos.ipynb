{
 "cells": [
  {
   "cell_type": "markdown",
   "metadata": {},
   "source": [
    "# El método de Newton para intervalos"
   ]
  },
  {
   "cell_type": "markdown",
   "metadata": {},
   "source": [
    "## Extensión literal del método de Newton"
   ]
  },
  {
   "cell_type": "markdown",
   "metadata": {},
   "source": [
    "Supongamos, igual que en el notebook anterior, que $f: \\mathbb{R} \\to \\mathbb{R}$ es una función $C^1$ (continuamente diferenciable) y que tiene una raíz $x^*$, es decir que $f(x^*)=0$. \n",
    "\n",
    "Sabemos que los intervalos pueden proveer una forma garantizada de acotar conjuntos. ¿Será posible que se puedan utilizar los intervalos de alguna forma para mejorar el método de Newton para ubicar las raíces de $f$?"
   ]
  },
  {
   "cell_type": "markdown",
   "metadata": {},
   "source": [
    "**[1]** La primera opción que se le podría ocurrir a uno es ocupar intervalos en el método de Newton tradicional.\n",
    "\n",
    "(i) Impleméntalo. [Debería ser ¡trivial utilizando tu código del notebook anterior!] \n",
    "\n",
    "(ii) Calcula el diámetro de los intervalos $x_i$ resultantes durante la iteración. ¿Qué observas? ¿Por qué ocurre?"
   ]
  },
  {
   "cell_type": "code",
   "execution_count": null,
   "metadata": {},
   "outputs": [],
   "source": []
  },
  {
   "cell_type": "markdown",
   "metadata": {},
   "source": [
    "## El método de Newton para intervalos"
   ]
  },
  {
   "cell_type": "markdown",
   "metadata": {},
   "source": [
    "Está claro que el método de Newton usual no nos sirve con intervalos. De hecho, es común que los métodos numéricos tradicionales no funcionan con intervalos. Sin embargo, al reescribir el método de otra manera, es posible que funcione mejor para acotar las cantidades deseadas.\n",
    "\n",
    "En los 60s se encontró una manera de *mejorar* el método de Newton, para proveer un método que *garantizadamente* pueda resolver el siguiente problema:\n",
    "\n",
    "> Dados un intervalo $X \\subseteq \\mathbb{R}$ y una función $f$ suficientemente suave ($C^1$), encuentra *todas* las raíces $f$ dentro del intervalo $X$.\n",
    "\n",
    "Es decir, el método de Newton para intervalos nos reportará cuáles son los intervalos dentro de los cuales puede garantizarse que existe una raíz, y que esta raíz es única dentro del intervalo. Asimismo, podría haber intervalos en los cuales no se puede garantizar que haya o no haya una raíz. Cualquier región de $X$ que no esté contenida en la lista de intervalos garantizadamente *no* contiene una raíz de $f$."
   ]
  },
  {
   "cell_type": "markdown",
   "metadata": {},
   "source": [
    "Necesitaremos extensiones intervalares $F$ de la función $f$ y $F'$ de su derivada $f'$; la segunda se puede obtener utilizando la diferenciación automática."
   ]
  },
  {
   "cell_type": "markdown",
   "metadata": {},
   "source": [
    "**[2]**\n",
    "Sea $x^*$ una raíz de $f$ y $x$ algún punto del intervalo $X$. \n",
    "\n",
    "(i) Escribe el teorema del valor medio que relaciona $f(x)$ y $f(x^*)$.\n",
    "\n",
    "(ii) De ahí, obtén una expresión *exacta* para $x^*$ en términos de $x$ y un valor desconocido.\n",
    "\n",
    "(iii) ¿Qué se puede hacer con el valor desconocido?\n",
    "\n",
    "(iv) Define un operador $N_f(X, x)$ como el resultado de (iii).\n",
    "\n",
    "(v) Demuestra que si $x^* \\in X$, entonces $x^* \\in N_f(X, x)$, y entonces $x^* \\in X \\cap N_f(X, x)$."
   ]
  },
  {
   "cell_type": "code",
   "execution_count": null,
   "metadata": {},
   "outputs": [],
   "source": []
  },
  {
   "cell_type": "markdown",
   "metadata": {},
   "source": [
    "Sea $m(X) := \\mathrm{mid}(X)$ el punto medio de $X$. Definimos el **operador de Newton** $N_f(X) := N_f(X, m)$. [Es necesario utilizar el intervalo $[m, m]$ cuando se calcula $f(m)$.]"
   ]
  },
  {
   "cell_type": "markdown",
   "metadata": {},
   "source": [
    "Ahora podemos definir una sucesión de intervalos a partir de un intervalo inicial $X_0$, dada por $X_{k+1} := X_k \\cap N_f(X_k)$. Por construcción, si $x^*\\in X_0$ entonces $x^*\\in X_k$ para toda $k$. Entonces, si $X_0$ contiene una raíz, la raíz se mantiene dentro de la secuencia de intervalos.\n",
    "\n",
    "Entonces, si pudiéramos controlar de alguna manera que el diámetro de los intervalos $x_k$ disminuya, obtendríamos cotas precisas para $x^*$. Resulta que sí es el caso; la demostración se encuentra, por ejemplo, en el libro de Tucker. Aquí veremos numéricamente que sí es el caso."
   ]
  },
  {
   "cell_type": "markdown",
   "metadata": {},
   "source": [
    "**[3]** (i) Escribe una función que acepte una función $f$ y calcule el operador de Newton $N_f(X)$ para un intervalo $X$.\n",
    "\n",
    "(ii) Escoge una función que tenga una raíz y tal que $0 \\notin f'(X)$. Implementa la iteración del método de Newton intervalar y dibuja la secuencia de intervalos que se obtiene.\n",
    "\n",
    "(iii) Calcula sus diámetros. ¿Qué ocurre?"
   ]
  },
  {
   "cell_type": "code",
   "execution_count": null,
   "metadata": {},
   "outputs": [],
   "source": []
  },
  {
   "cell_type": "markdown",
   "metadata": {},
   "source": [
    "**[4]** Podemos entender la acción del operador gráficamente: consiste en tomar rectas con *todas las pendientes dentro del intervalo $F'(X)$* e intersectarlos con el eje $x$. \n",
    "\n",
    "(i) Dibuja esto gráficamente.\n",
    "\n",
    "(ii) Dibuja lo que ocurre en la evolución de la iteración de Newton."
   ]
  },
  {
   "cell_type": "code",
   "execution_count": null,
   "metadata": {},
   "outputs": [],
   "source": []
  },
  {
   "cell_type": "markdown",
   "metadata": {},
   "source": [
    "Se sabe que el operador de Newton satisface el siguiente teorema fuerte:\n",
    "\n",
    "> Supongamos que $f(x)$ sea doblemente continua y diferenciable y $N_f(X)$ esté bien definida en el intervalo $X$. Entonces:\n",
    "\n",
    "> 1. Si $N_f(X)\\cap X = \\emptyset$, entonces $X$ no contiene ninguna raíz de $f$.\n",
    "\n",
    "> 2. Si $N_f(X) \\subseteq X$, entonces $X$ contiene exactamente una raíz de $f$."
   ]
  },
  {
   "cell_type": "markdown",
   "metadata": {},
   "source": [
    "## División extendida "
   ]
  },
  {
   "cell_type": "markdown",
   "metadata": {},
   "source": [
    "Hasta ahora, sólo hemos podido tratar el caso en el cual la derivada $F'(X)$ no contiene $0$, ya que el operador de Newton contiene una división por este intervalo. \n",
    "\n",
    "Sin embargo, resulta que también es posible tratar este caso, mediante la llamada \"división extendida\"."
   ]
  },
  {
   "cell_type": "markdown",
   "metadata": {},
   "source": [
    "**[5]** Supón que $F'(X)$ sea un intervalo, digamos $F'(X) = [-a, b]$, que contiene $0$ (con $a > 0$ y  $b > 0$). \n",
    "\n",
    "(i) Sea $A \\subseteq \\mathbb{R}$. Recuerda la definición de $1/A$ como conjunto. \n",
    "\n",
    "(ii) Así, evalúa $1 / F'(X)$. \n",
    "\n",
    "(iii) Define una función que implementa esta \"división extendida\" de intervalos (o, más bien, inversa extendida). [Pista: ¿Qué tipo de objeto debe regresar esta función?]"
   ]
  },
  {
   "cell_type": "code",
   "execution_count": null,
   "metadata": {},
   "outputs": [],
   "source": []
  },
  {
   "cell_type": "markdown",
   "metadata": {},
   "source": [
    "**[6]** Resulta que el método de Newton sigue funcionando si utilizamos esta división extendida cuándo sea apropiado. \n",
    "\n",
    "(i) Impleméntalo para encontrar *todas* las raíces de una función en un intervalo dado.\n",
    "\n",
    "(ii) Escoge una función con dos raíces. Muestra gráficamente lo que está ocurriendo.\n",
    "\n",
    "(iii) Nota que hay casos en los cuales no ocurre ninguna de las posibilidades (1) ni (2) en el teorema del método de Newton para intervalos. ¿Qué se puede hacer en este caso?"
   ]
  },
  {
   "cell_type": "code",
   "execution_count": null,
   "metadata": {},
   "outputs": [],
   "source": []
  },
  {
   "cell_type": "markdown",
   "metadata": {},
   "source": [
    "**[7]** Considera la familia de polinomios de Wilkinson, definidos por $W_n(x) := \\prod_{i=1}^n (x-i)$. Utiliza el método de Newton para encontrar todas sus raíces."
   ]
  },
  {
   "cell_type": "code",
   "execution_count": null,
   "metadata": {},
   "outputs": [],
   "source": []
  }
 ],
 "metadata": {
  "kernelspec": {
   "display_name": "Julia 0.6.3-pre",
   "language": "julia",
   "name": "julia-0.6"
  },
  "language_info": {
   "file_extension": ".jl",
   "mimetype": "application/julia",
   "name": "julia",
   "version": "0.6.3"
  },
  "toc": {
   "nav_menu": {},
   "number_sections": false,
   "sideBar": true,
   "skip_h1_title": false,
   "toc_cell": false,
   "toc_position": {
    "height": "429px",
    "left": "0px",
    "right": "727.2px",
    "top": "112px",
    "width": "212px"
   },
   "toc_section_display": "block",
   "toc_window_display": false
  }
 },
 "nbformat": 4,
 "nbformat_minor": 1
}
