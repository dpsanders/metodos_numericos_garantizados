{
 "cells": [
  {
   "cell_type": "markdown",
   "metadata": {},
   "source": [
    "# Creación de nuevos tipos de datos en Julia"
   ]
  },
  {
   "cell_type": "markdown",
   "metadata": {},
   "source": [
    "## ¿Por qué necesitamos crear nuevos tipos?"
   ]
  },
  {
   "cell_type": "markdown",
   "metadata": {},
   "source": [
    "En el notebook 1, empezamos a desarrollar la aritmética de intervalos. Para hacerlo, tratamos a un intervalo como un par ordenado de números de la forma $(a, b)$, representando el intervalo cerrado $[a, b]$. Pero un vil par de números ¡*puede representar muchos tipos de objetos diferentes*! --por ejemplo, un número complejo, un vector de dos componentes, o un \"número dual\" (ver más tarde en el curso).\n",
    "Además, un intervalo no es únicamente un par ordenado de números, sino cuenta con otras propiedades que queremos capturar.\n",
    "\n",
    "Para poder representar dentro de la computadora la gama de propiedades de un intervalo, y para distinguirlo de otros objetos que se representen superficialmente de la misma manera, requerimos codificar la definición de un intervalo en un *nuevo tipo de datos*, que llamaremos `Intervalo`."
   ]
  },
  {
   "cell_type": "markdown",
   "metadata": {},
   "source": [
    "## Despacho múltiple (\"multiple dispatch\")"
   ]
  },
  {
   "cell_type": "markdown",
   "metadata": {},
   "source": [
    "Una característica clave de Julia, que lo distingue de la gran mayoría de los demás lenguajes, es el \"despacho múltiple\". Esto quiere decir que una misma función (llamada una *función genérica*) puede tener varios *métodos* que actúen sobre objetos de diferentes tipos."
   ]
  },
  {
   "cell_type": "markdown",
   "metadata": {},
   "source": [
    "Pensemos en el notebook 1. Podríamos querer definir la función `f` actuando sobre una variable para representar la función usual $f: \\mathbb{R} \\to \\mathbb{R}$, pero cuando actúa sobre dos variables, tratamos a estos dos variables como representando un intervalo, y entonces aplicamos la extensión intervalar $\\tilde{f}: \\mathbb{IR} \\to \\mathbb{IR}$ que mapea un intervalo a su rango."
   ]
  },
  {
   "cell_type": "markdown",
   "metadata": {},
   "source": [
    "**[1]** (i) Implementa la función $f(x) = x^2 - 2x$ de las dos formas, con `f(x)` y `f(a, b)`.\n",
    "\n",
    "(ii) ¿Qué arroja `methods(f)`?\n",
    "\n",
    "(iii) Escribe un método de `f` tratando al intervalo como un par ordenado (\"tupla\" / \"tuple\"). Para hacerlo, al momento de definir la función, se incluye una *anotación de tipo* (\"type annotation\") `::Tuple` o `::NTuple{2}` (para especificar que debe tener dos entradas):\n",
    "\n",
    "    f(x::Tuple) = ...\n",
    "    \n",
    "(iv) Ahora ¿qué arroja `methods(f)`?`"
   ]
  },
  {
   "cell_type": "markdown",
   "metadata": {},
   "source": [
    "## Creación de tipos"
   ]
  },
  {
   "cell_type": "markdown",
   "metadata": {},
   "source": [
    "Julia nos permite crear / definir nuevos *tipos de datos*, o *tipos* (\"types\") para representar objetos en el programa que se comporten de cierta forma, por ejemplo para modelar un objeto en el mundo real, o un nuevo tipo de número. En Julia (a diferencia de muchos otros lenguajes), los tipos que definamos los usuarios tienen *exactamente el mismo \"nivel\" que los tipos pre-definidos*."
   ]
  },
  {
   "cell_type": "markdown",
   "metadata": {},
   "source": [
    "La definición de un tipo para representar un intervalo se ve así:"
   ]
  },
  {
   "cell_type": "code",
   "execution_count": null,
   "metadata": {
    "collapsed": true
   },
   "outputs": [],
   "source": [
    "struct Intervalo\n",
    "    inf::Float64\n",
    "    sup::Float64\n",
    "end"
   ]
  },
  {
   "cell_type": "markdown",
   "metadata": {},
   "source": [
    "Esto define un nuevo tipo de objeto que se llama `Intervalo`, y especifica los datos que contiene: dos `Float64`, con los nombre `inf` (cota inferior) y `sup` (cota superior). Es decir, podemos pensar que un objeto de tipo `Intervalo` corresponde a una \"caja\" con estos datos adentro. Podremos crear distintos objetos que tienen el mismo *tipo*, pero que difieren entre sí; corresponde a crear distintas cajas que se ven superficialmente iguales, pero tienen cosas diferentes adentro."
   ]
  },
  {
   "cell_type": "markdown",
   "metadata": {},
   "source": [
    "[Nota: Las definiciones de tipos no se pueden modificar dentro de una misma sesión de Julia.]"
   ]
  },
  {
   "cell_type": "markdown",
   "metadata": {},
   "source": [
    "### Constructores"
   ]
  },
  {
   "cell_type": "markdown",
   "metadata": {},
   "source": [
    "\n",
    "Hasta ahora, no se ha creado ningún objeto de este tipo; solo hemos especificado una plantilla para cómo se ven todo `Intervalo`. Para poder crear un objeto de este tipo, Julia nos provee, de forma automática (por el momento), una función con el mismo nombre que el tipo; esta función se llama el *constructor* del tipo."
   ]
  },
  {
   "cell_type": "markdown",
   "metadata": {},
   "source": [
    "**[2]** (i) Encuentra cómo utilizar el constructor para crear un intervalo $X = [3, 4]$.\n",
    "\n",
    "(ii) Verifica que puedes extraer la información adentro del objeto utilizando `X.<algo>`. [Pista: Para ver las opciones, presione `TAB` después del `.`.]\n",
    "\n",
    "(iii) ¿Se puede modificar los datos? ¿Por qué?\n",
    "\n",
    "(iv) ¿Qué tipos se pueden utilizar como argumentos al constructor?\n",
    "\n",
    "(v) La función `parse` se utiliza para convertir una cadena en un número. Utiliza la documentación de `parse` (el cual se obtiene con `?parse`) para escribir un nuevo *método* (versión) del constructor que acepta dos cadenas. [Pista: Se especifica que un argumento debe ser de tipo `String` con `::String`.]\n",
    "\n",
    "(vi) Escribe unos tests sencillos del constructor de `Intervalo`. Utiliza `@test_throws` para verificar los errores que pueda arrojar el constructor."
   ]
  },
  {
   "cell_type": "markdown",
   "metadata": {},
   "source": [
    "## Sobrecarga de operadores"
   ]
  },
  {
   "cell_type": "markdown",
   "metadata": {},
   "source": [
    "Ahora sabemos cómo definir una variables $X = [3, 4]$ y $Y = [5, 6]$. Pero las operaciones aritméticas, como las vimos en el notebook 1, son torpes: para dos intervalos debemos escribir `suma(X, Y)` en lugar de `X + Y`."
   ]
  },
  {
   "cell_type": "markdown",
   "metadata": {},
   "source": [
    "**[3]** Define la función `suma` para que funcione únicamente para dos `Intervalo`s, usando la misma regla que en el notebook 1."
   ]
  },
  {
   "cell_type": "markdown",
   "metadata": {},
   "source": [
    "Julia, como la mayoría de los lenguajes modernos, permite utilizar la *sobrecarga de operadores* para extender la definición de `+` a nuestro nuevo tipo.\n",
    "\n",
    "Para extender una función que viene definida en `Base` (la parte básica del lenguaje), como lo es `+`, se tiene que importar:"
   ]
  },
  {
   "cell_type": "code",
   "execution_count": null,
   "metadata": {
    "collapsed": true
   },
   "outputs": [],
   "source": [
    "import Base: +, -"
   ]
  },
  {
   "cell_type": "markdown",
   "metadata": {},
   "source": [
    "**[4]** (i) Examina la lista de *métodos* (versiones) que ya existen de la función `+` usando la función `methods`.\n",
    "\n",
    "(ii) Agrega un método nuevo que sume dos intervalos. [Pista: Basta con definir `+` con dos argumentos especificados como de tipo `Intervalo`, como si fuera una función nueva.]\n",
    "\n",
    "(iii) Agrega un método que sume un intervalo y un número real. El número se puede especificar con el tipo abstracto `Real`.\n",
    "\n",
    "(iv) Agrega un método que sume un número real y un intervalo en el otro orden.\n",
    "\n",
    "(v) Escribe tests para estos métodos."
   ]
  },
  {
   "cell_type": "markdown",
   "metadata": {},
   "source": [
    "**[5]** Escribe las funciones `-` y `*`, así como tests para ellos."
   ]
  },
  {
   "cell_type": "markdown",
   "metadata": {},
   "source": [
    "**[6]** (i) Escribe un método de `/` para dividir un intervalo por un número. ¿Cuáles son los casos especiales?\n",
    "\n",
    "(ii) Para dividir dos intervalos `X` y `Y`, hay un caso particular. ¿Cuál es? ¿Cuál debe ser el resultado?\n",
    "\n",
    "(iii) Escribe un método para la función `inv` que calcula la inversa de un intervalo `x`, es decir `1 / x`.\n",
    "\n",
    "(iv) Utiliza la función `inv` para definir `X / Y` en general para dos intervalos `X` y `Y`.\n",
    "\n",
    "(v) Escribe tests para `/`."
   ]
  },
  {
   "cell_type": "markdown",
   "metadata": {},
   "source": [
    "### Constructores internos"
   ]
  },
  {
   "cell_type": "markdown",
   "metadata": {},
   "source": [
    "Podríamos decidir que es conveniente restringir la definición de intervalos $[a, b]$ a la situación en la cual $a \\le b$. Por el momento no podemos hacer esto.\n",
    "\n",
    "Para lograrlo, debemos \"interferir\" con el proceso de construcción de un tipo, permitiendo que se construya sólo si se cumpla la condición que requeramos. Para hacerlo, Julia provee *constructores internos* (\"inner constructors\")."
   ]
  },
  {
   "cell_type": "markdown",
   "metadata": {},
   "source": [
    "**[7]** Busca documentación sobre constructores internos y utilízalos para impedir que se crean `Intervalo`s con $a > b$. "
   ]
  },
  {
   "cell_type": "markdown",
   "metadata": {},
   "source": [
    "**[8]** ¿Qué interpretación podría tener un interval $[a, b]$ con $a > b$? (Hay distintas respuestas posibles.)"
   ]
  },
  {
   "cell_type": "markdown",
   "metadata": {},
   "source": [
    "## Resumen"
   ]
  },
  {
   "cell_type": "markdown",
   "metadata": {},
   "source": [
    "**[9]** Escribe un resumen de lo que hayamos visto en este notebook."
   ]
  }
 ],
 "metadata": {
  "kernelspec": {
   "display_name": "Julia 0.6.2",
   "language": "julia",
   "name": "julia-0.6"
  },
  "language_info": {
   "file_extension": ".jl",
   "mimetype": "application/julia",
   "name": "julia",
   "version": "0.6.2"
  },
  "toc": {
   "nav_menu": {
    "height": "30px",
    "width": "252px"
   },
   "number_sections": true,
   "sideBar": true,
   "skip_h1_title": false,
   "toc_cell": false,
   "toc_position": {},
   "toc_section_display": "block",
   "toc_window_display": false
  }
 },
 "nbformat": 4,
 "nbformat_minor": 2
}
