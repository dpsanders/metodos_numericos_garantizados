{
 "cells": [
  {
   "cell_type": "markdown",
   "metadata": {},
   "source": [
    "# Diferenciación automática"
   ]
  },
  {
   "cell_type": "markdown",
   "metadata": {},
   "source": [
    "En este notebook, veremos una metodología para calcular derivadas numéricamente de forma *exacta*, la **diferenciación automática** o **diferenciación algorítmica**"
   ]
  },
  {
   "cell_type": "markdown",
   "metadata": {},
   "source": [
    "## Significado de la derivada"
   ]
  },
  {
   "cell_type": "markdown",
   "metadata": {},
   "source": [
    "¿Para qué sirven las derivadas?"
   ]
  },
  {
   "cell_type": "markdown",
   "metadata": {},
   "source": [
    "**[1]** (i) Supón que quieres calcular raíces de una función $f: \\mathbb{R} \\to \\mathbb{R}$ como lo hemos hecho en un notebook anterior, y tienes una manera de calcular la derivada $f'$. Si calculas $f'(X)$ para un intervalo $X$, ¿qué te da? ¿En qué te ayuda esto -- qué puedes concluir sobre las raíces?\n",
    "\n",
    "(ii) ¿Se extiende esto a funciones $f:\\mathbb{R^n} \\to \\mathbb{R}^n$? ¿De qué manera?"
   ]
  },
  {
   "cell_type": "code",
   "execution_count": null,
   "metadata": {
    "collapsed": true
   },
   "outputs": [],
   "source": []
  },
  {
   "cell_type": "markdown",
   "metadata": {},
   "source": [
    "**[2]** Para una función $f:\\mathbb{R} \\to \\mathbb{R}$, considera un intervalo $X$ donde queremos encontrar el rango $f(X)$. \n",
    "\n",
    "(i) Recuerda el teorema del valor medio (\"mean value theorem\"). Fija un $x_0 \\in X$ y utiliza el teorema para escribir una expresión para $f(x)$ para $x \\in X$, en términos de la derivada de $f$ en algún punto $\\xi \\in X$.\n",
    "\n",
    "(ii) No conocemos $\\xi$. ¿Qué podemos hacer al respecto? \n",
    "Si lo haces, encontrarás otra expresión para el rango $f(X)$, que se conoce como el **mean value form** o **centred form**.\n",
    "\n",
    "(iii) Compara los resultados numéricos que obtienes de $f(X)$ con la extensión intervalar usual (lo que vimos en un notebook anterior) y esta versión nueva para distintas funciones. ¿Cuándo es mejor la nueva? \n",
    "\n",
    "(iv) Si tienes las dos formas de calcular el rango, ¿cómo puedes combinarlos? Impleméntalo."
   ]
  },
  {
   "cell_type": "code",
   "execution_count": null,
   "metadata": {
    "collapsed": true
   },
   "outputs": [],
   "source": []
  },
  {
   "cell_type": "markdown",
   "metadata": {},
   "source": [
    "## Diferenciación automática"
   ]
  },
  {
   "cell_type": "markdown",
   "metadata": {},
   "source": [
    "De cálculo conocemos reglas para calcular derivadas (a diferencia, por ejemplo, de integrales indefinidas). Resulta que es posible *automatizar* estas reglas, para que la computadora las utilice para calcular derivadas de forma numéricamente exacta (a parte de errores de redondeo). Este conjunto de técnicas se llama la **diferenciación automática** o **diferenciación algorítmica**. En este notebook, veremos las bases de este método."
   ]
  },
  {
   "cell_type": "markdown",
   "metadata": {},
   "source": [
    "Nota: Este método *no* utiliza ni diferencias finitas, ni manipulación simbólica. Utiliza las reglas de derivadas provenientes del cálculo, pero de forma *numérica*. Especificamos el valor numérico de una variable, por ejemplo, `a = 3` en donde queremos evaluar la derivada de una función $f$, y ¡el método nos regresará el valor numérico de la derivada $f'(a)$!"
   ]
  },
  {
   "cell_type": "markdown",
   "metadata": {},
   "source": [
    "**[3]** Supón que tienes dos funciones $f$ y $g$ de $\\mathbb{R} \\to \\mathbb{R}$, cuyas derivadas conoces, y quieres calcular derivadas en un punto $a \\in \\mathbb{R}$ de combinaciones de estas funciones.\n",
    "\n",
    "(i) Expande $f$ y $g$ en series de Taylor alrededor de $a$ en términos de la distancia $\\epsilon$ desde $a$.\n",
    "\n",
    "(ii) Encuentra series de Taylor para la suma $(f+g)$ y el producto $(f \\cdot g)$ en la vecindad de $a$.\n",
    "\n",
    "(iii) Así, recobre las expresiones ya conocidas (de cálculo) para $(f+g)'(a)$ y $(f \\cdot g)'(a)$,\n",
    "en términos de los valores de las funciones y sus derivadas. Concluye cuál información necesitas de cada función para poder calcular derivadas en el punto $a$ de las combinaciones de las funciones."
   ]
  },
  {
   "cell_type": "code",
   "execution_count": null,
   "metadata": {
    "collapsed": true
   },
   "outputs": [],
   "source": []
  },
  {
   "cell_type": "markdown",
   "metadata": {},
   "source": [
    "**[4]** Ahora podemos convertir esto en un método numérico para calcular derivadas, como sigue."
   ]
  },
  {
   "cell_type": "markdown",
   "metadata": {},
   "source": [
    "(i) Define un tipo nuevo `Dual` que contiene la información necesaria de una función en el punto $a$. (Dejamos implícito el punto $a$; no lo representamos de forma explícita.) \n",
    "\n",
    "(ii) Define las operaciones aritméticas básicas sobre objetos de este tipo, siguiendo las reglas que desarrollamos en la pregunta (3).\n",
    "\n",
    "(iii) ¿Cuál número `Dual` corresponde con la función identidad $\\mathbb{1}: x \\mapsto x$ en el punto $a$? Esto representará la \"variable independiente\" $x$.\n",
    "\n",
    "(iv) Verifica que si agarras un objeto `xx` de la forma encontrada en (iii) y lo enchufas en una función específica `f(x)` de Julia, arroja el valor de la función y de la derivada.\n",
    "\n",
    "(v) Así, escribe una función que calcule de forma automática la derivada de una función en un punto dado."
   ]
  },
  {
   "cell_type": "code",
   "execution_count": null,
   "metadata": {
    "collapsed": true
   },
   "outputs": [],
   "source": []
  },
  {
   "cell_type": "markdown",
   "metadata": {},
   "source": [
    "**[5]** (i) Si tienes una función como `exp`, cuando la aplicas a un número `Dual` que representa a una función $f$ cerca del punto $a$, el resultado debe corresponder a la función $(\\exp \\circ f)$. Impleméntalo.\n",
    "\n",
    "(ii) ¿Qué ocurre si derivas `exp(exp(x))` en un punto $a$? ¿Es correcto? ¿Qué se ha implementado (¡de forma automática!) aquí?"
   ]
  },
  {
   "cell_type": "code",
   "execution_count": null,
   "metadata": {
    "collapsed": true
   },
   "outputs": [],
   "source": []
  },
  {
   "cell_type": "markdown",
   "metadata": {},
   "source": [
    "**[6]** Para una función $f: \\mathbb{R}^n \\to \\mathbb{R}$, quisiéramos calcular la gradiente $\\nabla f$. ¿Cómo podemos extender la diferenciación automática a este caso? Puedes restringir atención a $n=2$ para entender cómo funciona."
   ]
  },
  {
   "cell_type": "code",
   "execution_count": null,
   "metadata": {
    "collapsed": true
   },
   "outputs": [],
   "source": []
  },
  {
   "cell_type": "markdown",
   "metadata": {},
   "source": [
    "**[7]** Ahora que hayamos entendido la idea de la diferenciación automática, podemos echar mano del paquete de Julia `ForwardDiff.jl`, donde hay una implementación muy buena.\n",
    "\n",
    "Lee el manual del paquete para entender cómo calcular derivadas de funciones $\\mathbb{R} \\to \\mathbb{R}$, gradientes de funciones $\\mathbb{R}^n \\to \\mathbb{R}$, y jacobianos de funciones $\\mathbb{R}^n \\to \\mathbb{R}^m$."
   ]
  },
  {
   "cell_type": "code",
   "execution_count": null,
   "metadata": {
    "collapsed": true
   },
   "outputs": [],
   "source": []
  },
  {
   "cell_type": "markdown",
   "metadata": {},
   "source": [
    "**[8]** Ocupa diferenciación automática para calcular el \"centered form\" de una función $\\mathbb{R} \\to \\mathbb{R}$."
   ]
  },
  {
   "cell_type": "code",
   "execution_count": null,
   "metadata": {
    "collapsed": true
   },
   "outputs": [],
   "source": []
  }
 ],
 "metadata": {
  "kernelspec": {
   "display_name": "Julia 0.6.2",
   "language": "julia",
   "name": "julia-0.6"
  },
  "language_info": {
   "file_extension": ".jl",
   "mimetype": "application/julia",
   "name": "julia",
   "version": "0.6.2"
  }
 },
 "nbformat": 4,
 "nbformat_minor": 2
}
