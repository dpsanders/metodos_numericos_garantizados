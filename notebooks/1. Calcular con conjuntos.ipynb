{
 "cells": [
  {
   "cell_type": "markdown",
   "metadata": {},
   "source": [
    "# Calcular con conjuntos"
   ]
  },
  {
   "cell_type": "markdown",
   "metadata": {},
   "source": [
    "En este notebook, empezaremos a calcular con conjuntos, usando el lenguaje de programación [Julia](https://julialang.org/). Para ayuda con la sintaxis de Julia, ver e.g. los recursos en la página de [aprendizaje de Julia](https://julialang.org/learning/), en particular los primeros dos ligas en la sección de \"Resources\" (que son \"cheat sheets\")."
   ]
  },
  {
   "cell_type": "markdown",
   "metadata": {},
   "source": [
    "## ¿Cómo calcular con conjuntos?"
   ]
  },
  {
   "cell_type": "markdown",
   "metadata": {},
   "source": [
    "¿Es posible llevar a cabo cálculos con *todos los puntos* de un conjunto, de un solo golpe? Es decir, ¿podemos calcular el *rango* o *imagen* de una función sobre un dominio $D$, \n",
    "\n",
    "$$\\mathrm{range}(f; D) := \\{f(x): x \\in D \\}$$.\n",
    "\n",
    "Como ejemplos, trabajaremos con las dos funciones aparentemente triviales y similares $f(x) = x^2 - 2$ y $g(x) = x^2 - 2x$."
   ]
  },
  {
   "cell_type": "markdown",
   "metadata": {},
   "source": [
    "Para calcular con conjuntos, debemos empezar con los subconjuntos de los reales más sencillos, que son los *intervalos*. Por simplicidad trabajaremos con los intervalos cerrados, de la forma\n",
    "\n",
    "$$[a, b] := \\{x \\in \\mathbb{R}: a \\le x \\le b\\}.$$\n",
    "\n",
    "Definiremos operaciones matemáticas sobre intervalos (que usualmente no son definidas en las matemáticas), tal que el resultado corresponde con la operación sobre todo el intervalo."
   ]
  },
  {
   "cell_type": "markdown",
   "metadata": {},
   "source": [
    "### Cuadrado de un intervalo"
   ]
  },
  {
   "cell_type": "markdown",
   "metadata": {},
   "source": [
    "**[1]** Considera la función $x \\mapsto x^2$. \n",
    "\n",
    "(i) Primero supón que $0 < a < b$. Si calculamos $f(x)$ para todas las $x$ en el intervalo $[a, b]$, ¿qué tipo de objeto matemático resultará? ¿Cuál es el resultado exacto?\n",
    "\n",
    "(ii) Implementa esto en una función `sqr`.\n",
    "Toma como arguments a $a$ y $b$, y regresa un par ordenado.\n",
    "\n",
    "(iii) ¿Qué occure si $a$ es negativo? ¿Si $b$ lo es? Agrega estos casos a tu función.\n",
    "\n",
    "(iv) Escribe una serie de *tests* (\"pruebas\") para verificar que tu función funciona correctamente, usando la sintaxis siguiente [en Julia 0.6]:\n",
    "\n",
    "```\n",
    "using Base.Test\n",
    "@test 1 == 1\n",
    "```\n",
    "\n",
    "(v) Intercambia los tests con tu vecino. ¿Están de acuerdo? Si no, mejora el código."
   ]
  },
  {
   "cell_type": "markdown",
   "metadata": {},
   "source": [
    "### Restar constante"
   ]
  },
  {
   "cell_type": "markdown",
   "metadata": {},
   "source": [
    "**[2]** (i) Escribe una función `restar_constante` que resta una constante $c$ de un intervalo $[a, b]$.\n",
    "\n",
    "(ii) Escribe unos tests.\n",
    "\n",
    "(iii) Define una función `f` que actúa sobre un intervalo $[a, b]$, que calcula el rango de $f(x) = x^2 - 2$ sobre $[a, b]$. Toma como argumentos `a` y `b`, y regresa un par ordenado.\n",
    "\n",
    "(iv) Calcula la imagen del intervalo $[3, 4]$ bajo $f$.\n",
    "\n",
    "(v) Si queremos buscar **raíces** o **ceros** de $f$, ¿qué implica el resultado del inciso (iv)? ¿Por qué?\n",
    "\n",
    "(vi) ¿Cómo puedes ubicar las raíces de $f$? ¿Cómo puedes mejorar el resultado? Hazlo!"
   ]
  },
  {
   "cell_type": "markdown",
   "metadata": {},
   "source": [
    "### Dibujar intervalos"
   ]
  },
  {
   "cell_type": "markdown",
   "metadata": {},
   "source": [
    "Podemos representar la acción de una función `f` sobre un intervalo $X = [a, b]$ dibujando $X$ en el eje $x$ y $f(X)$ en el eje $y$. \n",
    "\n",
    "**[3]** (i) Define una función `dibujar` que acepta `f`, `a` y `b` como argumentos, y quien dibuja el intervalo. Pista:\n",
    "\n",
    "```\n",
    "Pkg.add(\"Plots\")  # instala un paquete: una sola vez\n",
    "Pkg.add(\"GR\")\n",
    "\n",
    "using Plots  # carga las definiciones de un paquete: cada vez\n",
    "gr()  \n",
    "\n",
    "plot(xs, ys, seriestype=:shape)\n",
    "```\n",
    "donde `xs` y `ys` son arreglos de las coordenadas `x` y `y` del objeto (polígono).\n",
    "\n",
    "(ii) Dibuja el rango de la función `f` usando este método. ¿Cómo se puede mejorar el resultado para que se vea más cercano a la gráfica de la función `f`, es decir el conjunto $\\{(x, f(x)): x \\in X\\}$."
   ]
  },
  {
   "cell_type": "markdown",
   "metadata": {},
   "source": [
    "### Multiplicar por una constante"
   ]
  },
  {
   "cell_type": "markdown",
   "metadata": {},
   "source": [
    "Para poder trabajar con la función $g$, debemos poder restar multiplicar un intervalo por una constante, y restar dos intervalos."
   ]
  },
  {
   "cell_type": "markdown",
   "metadata": {},
   "source": [
    "**[4]** (i) Define una función `multiplicar_constante` que multiplica un intervalo $[a, b]$ por una constante $c$.\n",
    "\n",
    "(ii) ¿Qué ocurre si $c < 0$? Agrega este caso.\n",
    "\n",
    "(iii) ¿Cuál otro caso puede ocurrir?\n",
    "\n",
    "(iii) Escribe algunos tests y compara con tu vecino."
   ]
  },
  {
   "cell_type": "markdown",
   "metadata": {},
   "source": [
    "### Suma"
   ]
  },
  {
   "cell_type": "markdown",
   "metadata": {},
   "source": [
    "**[5]** Ahora debemos pensar en la suma $[a, b] + [c, d]$ de dos intervalos $[a, b]$ y $[c, d]$.\n",
    "\n",
    "(i) Generalizando la idea de la función de una variable, ¿cómo podemos definir esta suma?\n",
    "\n",
    "(ii) ¿Cuál es el valor mínimo posible de la suma? ¿Cuál es el valor máximo?\n",
    "\n",
    "(iii) ¿Son posibles todos los valores entre el mínimo y el máximo? \n",
    "\n",
    "(iv) Implementa esto en una función `sumar`.\n",
    "\n",
    "(v) Escribe tests y compara con tu vecino."
   ]
  },
  {
   "cell_type": "markdown",
   "metadata": {},
   "source": [
    "### Resta"
   ]
  },
  {
   "cell_type": "markdown",
   "metadata": {},
   "source": [
    "**[6]** (i) Utiliza los resultados de [3] y [4] para definir la resta de dos intervalos $[a, b]$ y $[c, d]$. \n",
    "\n",
    "(ii) ¿Cómo se puede escribir matemáticamente el resultado?"
   ]
  },
  {
   "cell_type": "markdown",
   "metadata": {},
   "source": [
    "**[7]** (i) Define una función `g` para calcular el rango de la función $g(x) = x^2 - 2x$ sobre un intervalo [a, b]$.\n",
    "\n",
    "(ii) Calcula el rango de $g$ sobre el intervalo $[0, 2]$. \n",
    "\n",
    "(iii) Compara este resultado con el resultado analítico para el rango. ¿Concuerdan?\n",
    "\n",
    "(iv) Para entender este resultado, conocido como el \"problema de la dependencia\", calcula $[0, 1] - [0, 1]$.\n",
    "\n",
    "(v) ¿Cómo podríamos mejorar la sobreestimación del rango?"
   ]
  },
  {
   "cell_type": "markdown",
   "metadata": {},
   "source": [
    "### Multiplicación"
   ]
  },
  {
   "cell_type": "markdown",
   "metadata": {},
   "source": [
    "**[8]** (i) ¿Cómo podemos multiplicar dos intervalos? ¿Cuáles son todos los valores posibles?\n",
    "\n",
    "(ii) Implementa esto. \n",
    "\n",
    "(iii) Una manera de escribir tests para esto es generar de manera aleatoria los puntos finales de los intervalos, y generar aleatoriamente (uniforme) puntos adentro de los intervalos. Implementa tests de esta forma. Compara con tu vecino.\n",
    "\n",
    "(iv) Compara el resultado de $[-1, 2]^2$ con $[-1, 2] \\times [-1, 2]$. ¿Qué observas?"
   ]
  },
  {
   "cell_type": "markdown",
   "metadata": {},
   "source": [
    "### Resumen"
   ]
  },
  {
   "cell_type": "markdown",
   "metadata": {},
   "source": [
    "**[9]** Escribe un resumen de lo que hemos aprendido en este notebook."
   ]
  }
 ],
 "metadata": {
  "kernelspec": {
   "display_name": "Julia 0.6.2",
   "language": "julia",
   "name": "julia-0.6"
  },
  "language_info": {
   "file_extension": ".jl",
   "mimetype": "application/julia",
   "name": "julia",
   "version": "0.6.2"
  },
  "toc": {
   "colors": {
    "hover_highlight": "#DAA520",
    "running_highlight": "#FF0000",
    "selected_highlight": "#FFD700"
   },
   "moveMenuLeft": true,
   "nav_menu": {
    "height": "30px",
    "width": "252px"
   },
   "navigate_menu": true,
   "number_sections": true,
   "sideBar": true,
   "threshold": "1",
   "toc_cell": false,
   "toc_section_display": "block",
   "toc_window_display": false
  }
 },
 "nbformat": 4,
 "nbformat_minor": 2
}
