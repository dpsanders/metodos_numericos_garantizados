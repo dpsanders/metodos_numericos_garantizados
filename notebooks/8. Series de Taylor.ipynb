{
 "cells": [
  {
   "cell_type": "markdown",
   "metadata": {},
   "source": [
    "# Series de Taylor"
   ]
  },
  {
   "cell_type": "markdown",
   "metadata": {},
   "source": [
    "En el [notebook 5](https://github.com/dpsanders/metodos_numericos_garantizados/blob/master/notebooks/5.%20Diferenciacion%20automatica.ipynb) estudiamos las ideas básicas de lo que es la *diferenciación automática*. En este notebook, extenderemos esas ideas para obtener las derivadas más altas de una función elemental."
   ]
  },
  {
   "cell_type": "markdown",
   "metadata": {},
   "source": [
    "**[1]** (a) ¿Cuáles son las hipótesis importantes para poder *desarrollar* la serie de Taylor de una función $f(t)$ alrededor de $t_0$? (Nota cultural: en español no se dice \"expandir\" una serie.)\n",
    "\n",
    "(b) Escribe la serie (truncada) de Taylor de orden $p$ para $f(t)$ alrededor de $t_0$. Definiendo $f_{[k]}(t_0)$ como el coeficiente del término de orden $k$, escribe explícitamente su expresión. A estos coeficientes los llamaremos coeficientes de Taylor. ¿Qué información contiene el coeficiente $f_{[k]}(t_0)$?\n",
    "\n",
    "(c) ¿Qué cosa se supone, en términos de $t$ y $t_0$, para hablar de la validez de la serie?\n",
    "\n",
    "(d) ¿Cómo se puede acotar el error de la serie de Taylor truncada? Escribe una expresión explícita.\n",
    "\n",
    "(e) ¿Cuál es la versión equivalente al teorema del punto medio con series de Taylor?"
   ]
  },
  {
   "cell_type": "code",
   "execution_count": 1,
   "metadata": {},
   "outputs": [],
   "source": []
  },
  {
   "cell_type": "markdown",
   "metadata": {},
   "source": [
    "**[2]** Escribe un módulo donde implementes una nueva estructura que tenga la información necesaria para poder representar una serie de Taylor en una variable, de cierto orden. Haz algunas pruebas de que el constructor funciona correctamente."
   ]
  },
  {
   "cell_type": "code",
   "execution_count": null,
   "metadata": {},
   "outputs": [],
   "source": []
  },
  {
   "cell_type": "markdown",
   "metadata": {},
   "source": [
    "**[3]** Las operaciones aritméticas para $f$ y $g$ polinomios o series de Taylor truncadas de orden $p$, cumplen:\n",
    "\n",
    "\\begin{eqnarray*}\n",
    "(f+g)_{[k]} & = & f_{[k]} + g_{[k]} ,\\\\\n",
    "(f-g)_{[k]} & = & f_{[k]} - g_{[k]} ,\\\\\n",
    "(f \\cdot g)_{[k]} & = & \\sum_{i=0}^k f_{[i]} \\,g_{[k-i]} \\, ,\\\\\n",
    "\\Big(\\frac{f}{g}\\Big)_{[k]} & = & \\frac{1}{g_{[0]}}\n",
    "\\Big( f_{[k]} - \\sum_{i=0}^{k-1} \\big(\\frac{f}{g}\\big)_{[i]} \\, g_{[k-i]} \\Big) . \\\\\n",
    "\\end{eqnarray*}\n",
    "\n",
    "(a) Implementa en tu módulo estas operaciones.\n",
    "\n",
    "(b) ¿Cómo podrías demostrar/deducir la expresión para la multiplicación? ¿Y para la división?\n",
    "\n",
    "(c) ¿Qué suposición importante se requiere para la división? Si esta suposición no se cumple, ¿qué crees que se puede hacer?\n",
    "\n",
    "(d) Escribe algunos tests que muestre que funcionan de manera adecuada."
   ]
  },
  {
   "cell_type": "code",
   "execution_count": null,
   "metadata": {},
   "outputs": [],
   "source": []
  },
  {
   "cell_type": "markdown",
   "metadata": {},
   "source": [
    "**[4]** ¿Qué tipo de estructura matemática (grupo, campo, etc) forman los polinomios truncados de orden $p$ bajo la suma y el producto, definidos como lo hemos hecho arriba?"
   ]
  },
  {
   "cell_type": "code",
   "execution_count": null,
   "metadata": {},
   "outputs": [],
   "source": []
  },
  {
   "cell_type": "markdown",
   "metadata": {},
   "source": [
    "**[5]** La pregunta que trataremos ahora de resolver, es cómo operan funciones elementales ($\\exp$, $\\log$, `^`, $\\sin$, $\\cos$, ...) sobre polinomios. Para esto, resolveremos un problema de valor inicial apropiado (para cada función) lo que nos llevará a una *relación de recurrencia*. Como ejemplo consideraremos la función $\\exp(f(t))$, donde $f(t)$ es un polinomio.\n",
    "\n",
    "(a) Escribe una ecuación diferencial apropiada, cuya solución sea $E(t) = \\exp(f(t))$. \n",
    "¿Cuál es la condición inicial apropiada para este problema, definida en $t_0$?\n",
    "\n",
    "(b) Escribe $E(t)$ y $f(t)$ como polinomios en $t$, con $t$ cercana a $t_0$.\n",
    "\n",
    "(c) Escribe $dE(t)/dt$ y $df(t)/dt$ como polinomios en $t$, con $t$ cercana a $t_0$.\n",
    "\n",
    "(d) Sustituyendo estos polinomios en la ecuación diferencial, y usando las operaciones aritméticas necesarias, llega a una relación de recurrencia para $E_{[k+1]}$.\n",
    "\n",
    "(e) Muestra, con un caso sencillo, que efectivamente la relación de recurrencia nos lleva al resultado esperado.\n",
    "\n",
    "(f) Implementa esta función de recurrencia en tu módulo para `exp`, y muestra que da el resultado que debería."
   ]
  },
  {
   "cell_type": "code",
   "execution_count": null,
   "metadata": {},
   "outputs": [],
   "source": []
  },
  {
   "cell_type": "markdown",
   "metadata": {},
   "source": [
    "**[6]** Escribe las ecuaciones diferenciales relevantes para poder calcular las funciones:\n",
    "(a) $L(t) = \\log \\left( g(t) \\right)$,\n",
    "(b) $P_\\alpha(t) = \\left( g(t) \\right)^\\alpha$,\n",
    "(c) $S(t) = \\sin \\left( g(t) \\right)$,\n",
    "(d) $C(t) = \\cos \\left( g(t) \\right)$, \n",
    "sobre polinomios."
   ]
  },
  {
   "cell_type": "code",
   "execution_count": null,
   "metadata": {},
   "outputs": [],
   "source": []
  },
  {
   "cell_type": "markdown",
   "metadata": {},
   "source": [
    "**[7]** Para la ecuación $\\dot{x} = f(t,x)$ con condición inicial $x(t_0) = x_0$, donde $t$ es la variable independiente, y suponiendo que conocemos el desarrollo de Taylor de $f(t, x(t))$ cerca de $t_0$, escribe la relación de recurrencia para $f_{[k+1]}(t_0)$.\n",
    "(Esta es la base del método de Taylor para integrar ecuaciones diferenciales.)"
   ]
  },
  {
   "cell_type": "code",
   "execution_count": null,
   "metadata": {
    "inputHidden": false,
    "outputHidden": false
   },
   "outputs": [],
   "source": []
  }
 ],
 "metadata": {
  "kernel_info": {
   "name": "julia-0.6"
  },
  "kernelspec": {
   "display_name": "Julia 0.6.2",
   "language": "julia",
   "name": "julia-0.6"
  },
  "language_info": {
   "file_extension": ".jl",
   "mimetype": "application/julia",
   "name": "julia",
   "version": "0.6.2"
  },
  "nteract": {
   "version": "0.8.4"
  },
  "toc": {
   "nav_menu": {},
   "number_sections": false,
   "sideBar": true,
   "skip_h1_title": false,
   "toc_cell": false,
   "toc_position": {},
   "toc_section_display": "block",
   "toc_window_display": false
  }
 },
 "nbformat": 4,
 "nbformat_minor": 2
}
