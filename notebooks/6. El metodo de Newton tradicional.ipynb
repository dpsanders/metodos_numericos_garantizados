{
 "cells": [
  {
   "cell_type": "markdown",
   "metadata": {},
   "source": [
    "# El método de Newton tradicional"
   ]
  },
  {
   "cell_type": "markdown",
   "metadata": {},
   "source": [
    "Recordemos que el *método de Newton* es un método numérico *iterativo* para encontrar raíces de funciones (continuamente) diferenciables.\n",
    "\n",
    "Sea $f$ la función cuyas raíces queremos encontrar.\n",
    "La idea es que empecemos desde una adivinanza inicial $x_0$, y que la siguiente aproximación se calcula como sigue."
   ]
  },
  {
   "cell_type": "markdown",
   "metadata": {},
   "source": [
    "**[1]** (i) En general, $x_0$ *no* es una raíz. Suponiendo que $x_0$ esté cerca de una raíz, sea $x_0 + \\delta x$ la raíz. Expande $f$ en una serie de Taylor a primer orden para encontrar una expresión aproximada para $\\delta x$, y de ahí de la siguiente aproximación $x_1 := x_0 + \\delta x$.\n",
    "\n",
    "(ii) Dé una interpretación geométrica de este resultado.\n",
    "\n",
    "(iii) Dibuja unas cuantas iteraciones en la computadora, con todo y la interpretación geométrica, para una función nolineal que escojas."
   ]
  },
  {
   "cell_type": "markdown",
   "metadata": {},
   "source": [
    "**[2]** (i) Escribe una función `newton` que implementa la iteración para calcular una raíz de una función $f$, dada una adivinza inicial $x_0$. Utiliza diferenciación automática para calcular la derivada.\n",
    "\n",
    "(ii) Utiliza tu código para calcular la raíz cuadrada y la raíz cúbica de $2$.  \n",
    "\n",
    "(iii) ¿Cuál es una condición razonable de terminación del algoritmo? "
   ]
  },
  {
   "cell_type": "markdown",
   "metadata": {},
   "source": [
    "**[3]** ¿Cómo es la convergencia del método hacia una raíz:\n",
    "\n",
    "- cuando se empieza cerca de la raíz;\n",
    "\n",
    "- cuando se empieza lejos.\n",
    "\n",
    "[Pista: Utiliza `BigFloat` para obtener información más útil.]"
   ]
  },
  {
   "cell_type": "markdown",
   "metadata": {},
   "source": [
    "## El método de Newton **puede fallar**"
   ]
  },
  {
   "cell_type": "markdown",
   "metadata": {},
   "source": [
    "El método de Newton funciona muy bien a veces, pero también puede fallar:"
   ]
  },
  {
   "cell_type": "markdown",
   "metadata": {},
   "source": [
    "**[3]** Utiliza el método de Newton para encontrar raíces *en el plano complejo*. Empezando desde distintos números complejos $a + bi$, itera el algoritmo para ver a cuál raíz converge, y colorea el punto inicial de manera correspondiente. [Pista: distingue a los puntos iniciales según la componente imaginaria de la raíz a la cual convergen.]\n",
    "\n",
    "Interpreta el resultado."
   ]
  },
  {
   "cell_type": "markdown",
   "metadata": {},
   "source": [
    "## Dimensión superior"
   ]
  },
  {
   "cell_type": "markdown",
   "metadata": {},
   "source": [
    "El método de Newton se puede extender para encontrar raíces de funciones en dimensión superior, es decir de funciones $\\mathbf{f}: \\mathbb{R}^n \\to \\mathbb{R}^n$."
   ]
  },
  {
   "cell_type": "markdown",
   "metadata": {},
   "source": [
    "**[4]** (i) Desarrolla el algoritmo del método de Newton para funciones $\\mathbf{f}: \\mathbb{R}^n \\to \\mathbb{R}^n$. Para hacerlo, toma una adivinaza inicial $\\mathbf{x}_0$ y extiende el desarrollo de la pregunta (1) a este caso.\n",
    "\n",
    "(ii) ¿Qué tipo de cálculos necesitas poder hacer en Julia para implementar este algoritmo de forma numérica? ¿Cómo se lleva a cabo esto en Julia?\n",
    "\n",
    "(iii) Escribe una función que implementa el algoritmo. \n",
    "\n",
    "(iv) Encuentra raíces de funciones multidimensionales cuyas raíces conoces, para verificar que el algoritmo funcione."
   ]
  }
 ],
 "metadata": {
  "kernelspec": {
   "display_name": "Julia 0.6.2",
   "language": "julia",
   "name": "julia-0.6"
  },
  "language_info": {
   "file_extension": ".jl",
   "mimetype": "application/julia",
   "name": "julia",
   "version": "0.6.2"
  }
 },
 "nbformat": 4,
 "nbformat_minor": 1
}
